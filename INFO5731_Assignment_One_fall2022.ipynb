{
  "cells": [
    {
      "cell_type": "markdown",
      "metadata": {
        "id": "view-in-github",
        "colab_type": "text"
      },
      "source": [
        "<a href=\"https://colab.research.google.com/github/MounishaChalasani/MounishaChalasani-INFO5731_Assignment_One_fall2022/blob/main/INFO5731_Assignment_One_fall2022.ipynb\" target=\"_parent\"><img src=\"https://colab.research.google.com/assets/colab-badge.svg\" alt=\"Open In Colab\"/></a>"
      ]
    },
    {
      "cell_type": "markdown",
      "metadata": {
        "id": "Ryk8D1Q4Wsrp"
      },
      "source": [
        "# **INFO5731 Assignment One**"
      ]
    },
    {
      "cell_type": "markdown",
      "metadata": {
        "id": "90_NR8c5XGWc"
      },
      "source": [
        "# Question 1\n",
        "\n",
        "(20 points). Write a Python program to generate 12 random numbers between 1 and 100. Sort the list of numbers in ascending order and print it out. Sort the list of numbers in descending order and print it out. Calculate the average for the group and print it out."
      ]
    },
    {
      "cell_type": "code",
      "execution_count": 1,
      "metadata": {
        "colab": {
          "base_uri": "https://localhost:8080/"
        },
        "id": "5QX6bJjGWXY9",
        "outputId": "a5186273-09d4-414a-8979-0eb5d14ad570"
      },
      "outputs": [
        {
          "output_type": "stream",
          "name": "stdout",
          "text": [
            "random list : [37, 28, 29, 69, 23, 14, 25, 44, 15, 5, 94, 70]\n",
            "Ascending Order : [5, 14, 15, 23, 25, 28, 29, 37, 44, 69, 70, 94]\n",
            "Descending Order : [94, 70, 69, 44, 37, 29, 28, 25, 23, 15, 14, 5]\n"
          ]
        }
      ],
      "source": [
        "# Your code here\n",
        "\n",
        "#random numbers\n",
        "import random\n",
        "list = random.sample(range(1, 100), 12)\n",
        "print(\"random list :\", list)\n",
        "\n",
        "#ascending order\n",
        "list.sort()\n",
        "print(\"Ascending Order :\", list)\n",
        "\n",
        "#descending order\n",
        "list.sort(reverse=True)\n",
        "print(\"Descending Order :\", list)"
      ]
    },
    {
      "cell_type": "markdown",
      "metadata": {
        "id": "1F_PZdH9Sh49"
      },
      "source": [
        "# Question 2\n",
        "(25 points). Write a program that will do the following string formatting tasks:\n",
        "\n",
        "(1) Ask the user to enter two sentences.\n",
        "\n",
        "(2) Make each sentence into a list. Each element in the list should correspond to a word in the sentence. For example, if the sentence is \"Alas! Am I alive? This is my first python program\", the program should print out ['Alas, '!', 'Am', 'I', 'alive, '?', 'This', 'is', 'my', 'first', 'python', 'program'].\n",
        "\n",
        "(3) Compare the two sentences. Print out a list of words that occur in both sentences.\n",
        "\n",
        "(4) Remove any punctuation from the sentence and print it back out. It should remove at least the following characters, but it can remove more: period(“.”), comma (“,”), semicolon (“;”), and colon (“:”)\n",
        "\n",
        "(5) Count the number of vowels in the sentences. Print out each vowel and the number of times it appears in the sentences, such as: a:2, e:1, i:0, etc"
      ]
    },
    {
      "cell_type": "code",
      "execution_count": null,
      "metadata": {
        "id": "Y0oOSlsOS0cq",
        "outputId": "aa1bdf49-6f5c-48dd-9ea4-ab870f4b6484"
      },
      "outputs": [
        {
          "name": "stdout",
          "output_type": "stream",
          "text": [
            "Enter sentence1 : hi hello ! how are you ?\n",
            "hi hello ! how are you ?\n",
            "Enter sentence2 :hello ! I am fine , how about you?\n",
            "hello ! I am fine , how about you?\n"
          ]
        }
      ],
      "source": [
        "# Your code here\n",
        "\n",
        "#1 User to enter two sentences\n",
        "val1 = input(\"Enter sentence1 : \")\n",
        "print(val1)\n",
        "val2 = input(\"Enter sentence2 :\")\n",
        "print(val2)"
      ]
    },
    {
      "cell_type": "code",
      "execution_count": null,
      "metadata": {
        "id": "YWB437b5vfux",
        "outputId": "535fb684-2458-4637-af20-506b584034bb"
      },
      "outputs": [
        {
          "name": "stdout",
          "output_type": "stream",
          "text": [
            "['hi', 'hello', '!', 'how', 'are', 'you', '?']\n",
            "['hello', '!', 'I', 'am', 'fine', ',', 'how', 'about', 'you?']\n"
          ]
        }
      ],
      "source": [
        "#2 sentence to a list\n",
        "\n",
        "print(val1.split())\n",
        "print(val2.split())"
      ]
    },
    {
      "cell_type": "code",
      "execution_count": null,
      "metadata": {
        "id": "4VYxR5oUvfuy",
        "outputId": "43c01243-2581-4014-aeb1-d3d80f61c5a1"
      },
      "outputs": [
        {
          "name": "stdout",
          "output_type": "stream",
          "text": [
            "['hello', '!', 'how']\n"
          ]
        }
      ],
      "source": [
        "#3 comparission of sentences\n",
        "\n",
        "commonwords = [ w for w in val1.lower().split() if (w in val2.lower().split()) ]\n",
        "print(commonwords)"
      ]
    },
    {
      "cell_type": "code",
      "execution_count": null,
      "metadata": {
        "id": "sEQtGxv7vfuz",
        "outputId": "db3c0e4f-26b4-426b-d155-01a8d216fcca"
      },
      "outputs": [
        {
          "name": "stdout",
          "output_type": "stream",
          "text": [
            "hi hello  how are you \n",
            "hello  I am fine  how about you\n"
          ]
        }
      ],
      "source": [
        "#4 removing punctuation from sentence\n",
        "\n",
        "import string\n",
        "sentence1 = val1.translate(str.maketrans('', '', string.punctuation))\n",
        "sentence2 = val2.translate(str.maketrans('', '', string.punctuation))\n",
        "\n",
        "print(sentence1)\n",
        "print(sentence2)"
      ]
    },
    {
      "cell_type": "code",
      "execution_count": null,
      "metadata": {
        "id": "ObgOyPwqvfu0",
        "outputId": "fb4338b7-ee94-44fa-caf3-1892ae471210"
      },
      "outputs": [
        {
          "name": "stdout",
          "output_type": "stream",
          "text": [
            "{'a': 1, 'e': 2, 'i': 1, 'o': 3, 'u': 1, 'A': 0, 'E': 0, 'I': 0, 'O': 0, 'U': 0}\n"
          ]
        }
      ],
      "source": [
        "#5 count number of vowels in sentence\n",
        "\n",
        "vowels_list = 'aeiouAEIOU'\n",
        "vowel = {}.fromkeys(vowels_list,0)\n",
        "\n",
        "for i in val1:\n",
        "   if i in vowel:\n",
        "       vowel[i] = vowel[i] + 1\n",
        "\n",
        "print(vowel)"
      ]
    },
    {
      "cell_type": "markdown",
      "metadata": {
        "id": "CmFoI4jDS9nx"
      },
      "source": [
        "# Question 3 \n",
        "\n",
        "(15 points). The formula that describes the volume V of a sphere with radius r is the following:\n",
        "\n",
        "$ V=\\frac{4}{3}\\ast\\ \\pi\\ast\\ r^3 $\n",
        "\n",
        "Write a program to calculate the value of V when r is in the range of 1–10. Output the result in the following format:\n",
        "\n",
        "\tr\tV\n",
        "\t1\t…\n",
        "\t2\t…\n",
        "\t3\t…\n"
      ]
    },
    {
      "cell_type": "code",
      "execution_count": null,
      "metadata": {
        "id": "pEyqeioAT95b",
        "outputId": "26bef2ff-f73d-4ce9-8551-a2c9aa4befa6"
      },
      "outputs": [
        {
          "name": "stdout",
          "output_type": "stream",
          "text": [
            "The volume of the sphere is:  523.5987755982989\n"
          ]
        }
      ],
      "source": [
        "# Your code here\n",
        "\n",
        "pi = 3.1415926535897931\n",
        "\n",
        "for r in range(10):\n",
        "    if r > 0:\n",
        "        \n",
        "r=5\n",
        "V= 4.0/3.0*pi* r**3  \n",
        "print('The volume of the sphere is: ',V)"
      ]
    },
    {
      "cell_type": "markdown",
      "metadata": {
        "id": "z3tBE7E-Xn5X"
      },
      "source": [
        "# Question 4\n",
        "\n",
        "(40 points). In the field of Data Science, data is often formatted as a comma-delimited (CSV) file, where each line in a file corresponds to a field's value. Refer to Chapter 9 (p. 106) for more information on comma-delimited files. To answer this question, you will need to download the file [Assignment1_denton_housing.csv](https://raw.githubusercontent.com/unt-iialab/info5731-spring2022/main/assignments/Assignment1_denton_housing.csv) included with this assignment. The file [Assignment1_denton_housing.csv](https://raw.githubusercontent.com/unt-iialab/info5731-spring2022/main/assignments/Assignment1_denton_housing.csv) contains statistics about housing in the city of Denton from 2008 to 2014. Write a program to implement the following questions.\n",
        "\n",
        "(1) (10 pts) Calculate the difference in the number of Occupied Housing Units from year to year and print it. The difference must be calculated for the consecutive years such as 2008-2009, 2009-2010 etc. Finally, print the values in the ascending order.\n",
        "\n",
        "(2) (10 pts) For all the years, calculate the percentage of housing units which are vacant an occupied. Print the results in the following format:\n",
        "\n",
        "Year Vacant Housing Units Occupied Housing Units\n",
        "\n",
        "    2008  30%   70%                          \n",
        "\t2009 ----- -----\n",
        "\t2010 ----- -----\n",
        "    2011 ----- -----\n",
        "\t2012 ----- -----\n",
        "    2013 ----- -----\n",
        "\t2014 ----- -----\n",
        "  \n",
        "  \n",
        "\n",
        "(3) (10 pts) Calculate and print the valued and years in which the highest number of housing units were vacant and occupied. Print the results in the following format:  \n",
        "\n",
        "                              Year\tValue\n",
        "\tVacant Housing Units\t  -----   -----\n",
        "\tOccupied Housing Units\t-----   -----\n",
        "\n",
        "(4) (10 pts) Calculate the harmonic mean of the total housing units and print it out. You can find the information about harmonic mean here: https://ncalculators.com/statistics/harmonic-mean-calculator.htm"
      ]
    },
    {
      "cell_type": "code",
      "execution_count": null,
      "metadata": {
        "id": "lqGYuHBhcsRH",
        "outputId": "c12880f1-b0a0-4c2c-99a2-af9c3b858c00"
      },
      "outputs": [
        {
          "name": "stdout",
          "output_type": "stream",
          "text": [
            "2008-2009   795\n",
            "2009-2010  5091\n",
            "2010-2011   303\n",
            "2011-2012  1404\n",
            "2012-2013  1565\n",
            "2013-2014  2622\n"
          ]
        }
      ],
      "source": [
        "# Your code here\n",
        "\n",
        "#1 calculating the difference\n",
        "\n",
        "import csv\n",
        "from itertools import tee\n",
        "\n",
        "def pairwise(iterable):\n",
        "    \"s -> (s0,s1), (s1,s2), (s2, s3), ...\"\n",
        "    a, b = tee(iterable)\n",
        "    next(b, None)\n",
        "    return zip(a, b)\n",
        "\n",
        "target_title_field = 'Occupied Housing Units'\n",
        "\n",
        "with open('Assignment1_denton_housing.csv', 'r', encoding='utf8', newline='') as f:\n",
        "    housing_stats = []\n",
        "    for row in csv.DictReader(f, delimiter=','):\n",
        "        if row['title_field'] == target_title_field:\n",
        "            year = int(row[\"year\"])\n",
        "            field_name = row[\"title_field\"]\n",
        "            value = int(row[\"value\"])\n",
        "            denton_dict = {\"year\": year, \"field_name\": field_name, \"value\": value}\n",
        "            housing_stats.append(denton_dict)\n",
        "\n",
        "housing_stats.sort(key=lambda row: row['year'])\n",
        "\n",
        "for r1, r2 in pairwise(housing_stats):\n",
        "    print('{}-{} {:5}'.format(r1['year'], r2['year'], abs(r2['value'] - r1['value'])))"
      ]
    },
    {
      "cell_type": "code",
      "execution_count": null,
      "metadata": {
        "id": "PZvwQkaKvfu4",
        "outputId": "600e6311-a484-4807-d995-34340a8490f6"
      },
      "outputs": [
        {
          "ename": "NameError",
          "evalue": "name 'title_field' is not defined",
          "output_type": "error",
          "traceback": [
            "\u001b[1;31m---------------------------------------------------------------------------\u001b[0m",
            "\u001b[1;31mNameError\u001b[0m                                 Traceback (most recent call last)",
            "Input \u001b[1;32mIn [98]\u001b[0m, in \u001b[0;36m<cell line: 4>\u001b[1;34m()\u001b[0m\n\u001b[0;32m      1\u001b[0m \u001b[38;5;66;03m#4 harmonic mean\u001b[39;00m\n\u001b[0;32m      3\u001b[0m \u001b[38;5;28;01mimport\u001b[39;00m \u001b[38;5;21;01mstatistics\u001b[39;00m\n\u001b[1;32m----> 4\u001b[0m \u001b[38;5;28mprint\u001b[39m(statistics\u001b[38;5;241m.\u001b[39mharmonic_mean(housing_data[\u001b[43mtitle_field\u001b[49m]\u001b[38;5;241m.\u001b[39mvalue\u001b[38;5;241m==\u001b[39m\u001b[38;5;124m'\u001b[39m\u001b[38;5;124mTotal Housing Units\u001b[39m\u001b[38;5;124m'\u001b[39m))\n",
            "\u001b[1;31mNameError\u001b[0m: name 'title_field' is not defined"
          ]
        }
      ],
      "source": [
        "#4 harmonic mean\n",
        "\n",
        "import statistics\n",
        "print(statistics.harmonic_mean(housing_data[title_field].value=='Total Housing Units'))"
      ]
    },
    {
      "cell_type": "code",
      "execution_count": null,
      "metadata": {
        "id": "rYEcpRjSvfu4"
      },
      "outputs": [],
      "source": []
    }
  ],
  "metadata": {
    "colab": {
      "collapsed_sections": [],
      "provenance": [],
      "include_colab_link": true
    },
    "kernelspec": {
      "display_name": "Python 3 (ipykernel)",
      "language": "python",
      "name": "python3"
    },
    "language_info": {
      "codemirror_mode": {
        "name": "ipython",
        "version": 3
      },
      "file_extension": ".py",
      "mimetype": "text/x-python",
      "name": "python",
      "nbconvert_exporter": "python",
      "pygments_lexer": "ipython3",
      "version": "3.9.12"
    }
  },
  "nbformat": 4,
  "nbformat_minor": 0
}