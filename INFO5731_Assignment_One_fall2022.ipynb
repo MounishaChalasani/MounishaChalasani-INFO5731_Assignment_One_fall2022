{
  "cells": [
    {
      "cell_type": "markdown",
      "metadata": {
        "id": "view-in-github",
        "colab_type": "text"
      },
      "source": [
        "<a href=\"https://colab.research.google.com/github/MounishaChalasani/MounishaChalasani-INFO5731_Assignment_One_fall2022/blob/main/INFO5731_Assignment_One_fall2022.ipynb\" target=\"_parent\"><img src=\"https://colab.research.google.com/assets/colab-badge.svg\" alt=\"Open In Colab\"/></a>"
      ]
    },
    {
      "cell_type": "markdown",
      "metadata": {
        "id": "Ryk8D1Q4Wsrp"
      },
      "source": [
        "# **INFO5731 Assignment One**"
      ]
    },
    {
      "cell_type": "markdown",
      "metadata": {
        "id": "90_NR8c5XGWc"
      },
      "source": [
        "# Question 1\n",
        "\n",
        "(20 points). Write a Python program to generate 12 random numbers between 1 and 100. Sort the list of numbers in ascending order and print it out. Sort the list of numbers in descending order and print it out. Calculate the average for the group and print it out."
      ]
    },
    {
      "cell_type": "code",
      "execution_count": null,
      "metadata": {
        "id": "5QX6bJjGWXY9",
        "outputId": "16898a56-5604-4b6a-b07a-6e2d20eebbe7"
      },
      "outputs": [
        {
          "name": "stdout",
          "output_type": "stream",
          "text": [
            "random list : [3, 51, 94, 91, 87, 18, 80, 64, 36, 73, 7, 88]\n",
            "Ascending Order : [3, 7, 18, 36, 51, 64, 73, 80, 87, 88, 91, 94]\n",
            "Descending Order : [94, 91, 88, 87, 80, 73, 64, 51, 36, 18, 7, 3]\n"
          ]
        }
      ],
      "source": [
        "# Your code here\n",
        "\n",
        "#random numbers\n",
        "import random\n",
        "list = random.sample(range(1, 100), 12)\n",
        "print(\"random list :\", list)\n",
        "\n",
        "#ascending order\n",
        "list.sort()\n",
        "print(\"Ascending Order :\", list)\n",
        "\n",
        "#descending order\n",
        "list.sort(reverse=True)\n",
        "print(\"Descending Order :\", list)"
      ]
    },
    {
      "cell_type": "markdown",
      "metadata": {
        "id": "1F_PZdH9Sh49"
      },
      "source": [
        "# Question 2\n",
        "(25 points). Write a program that will do the following string formatting tasks:\n",
        "\n",
        "(1) Ask the user to enter two sentences.\n",
        "\n",
        "(2) Make each sentence into a list. Each element in the list should correspond to a word in the sentence. For example, if the sentence is \"Alas! Am I alive? This is my first python program\", the program should print out ['Alas, '!', 'Am', 'I', 'alive, '?', 'This', 'is', 'my', 'first', 'python', 'program'].\n",
        "\n",
        "(3) Compare the two sentences. Print out a list of words that occur in both sentences.\n",
        "\n",
        "(4) Remove any punctuation from the sentence and print it back out. It should remove at least the following characters, but it can remove more: period(“.”), comma (“,”), semicolon (“;”), and colon (“:”)\n",
        "\n",
        "(5) Count the number of vowels in the sentences. Print out each vowel and the number of times it appears in the sentences, such as: a:2, e:1, i:0, etc"
      ]
    },
    {
      "cell_type": "code",
      "execution_count": null,
      "metadata": {
        "id": "Y0oOSlsOS0cq",
        "outputId": "adfd0454-08ff-4a44-c221-d5dd03d5ccf4"
      },
      "outputs": [
        {
          "name": "stdout",
          "output_type": "stream",
          "text": [
            "Enter sentence1 : hi hello ! how are you ?\n",
            "hi hello ! how are you ?\n",
            "Enter sentence2 :hello ! I am fine , how about you?\n",
            "hello ! I am fine , how about you?\n"
          ]
        }
      ],
      "source": [
        "# Your code here\n",
        "\n",
        "#1 User to enter two sentences\n",
        "val1 = input(\"Enter sentence1 : \")\n",
        "print(val1)\n",
        "val2 = input(\"Enter sentence2 :\")\n",
        "print(val2)"
      ]
    },
    {
      "cell_type": "code",
      "execution_count": null,
      "metadata": {
        "id": "BNPzRQh_4w-1",
        "outputId": "5e7f3511-8b27-44cd-8ec7-5f085e9d61f7"
      },
      "outputs": [
        {
          "name": "stdout",
          "output_type": "stream",
          "text": [
            "['hi', 'hello', '!', 'how', 'are', 'you', '?']\n",
            "['hello', '!', 'I', 'am', 'fine', ',', 'how', 'about', 'you?']\n"
          ]
        }
      ],
      "source": [
        "#2 sentence to a list\n",
        "\n",
        "print(val1.split())\n",
        "print(val2.split())"
      ]
    },
    {
      "cell_type": "code",
      "execution_count": null,
      "metadata": {
        "id": "ESS7xclv4w-2",
        "outputId": "1a7907d9-25a6-4377-c876-f1c2a042f48d"
      },
      "outputs": [
        {
          "name": "stdout",
          "output_type": "stream",
          "text": [
            "['hello', '!', 'how']\n"
          ]
        }
      ],
      "source": [
        "#3 comparission of sentences\n",
        "\n",
        "commonwords = [ w for w in val1.lower().split() if (w in val2.lower().split()) ]\n",
        "print(commonwords)"
      ]
    },
    {
      "cell_type": "code",
      "execution_count": null,
      "metadata": {
        "id": "0QuPLT9l4w-3",
        "outputId": "2877e9f2-06a1-4b34-b66d-3e3d6e5908f0"
      },
      "outputs": [
        {
          "name": "stdout",
          "output_type": "stream",
          "text": [
            "hi hello  how are you \n",
            "hello  I am fine  how about you\n"
          ]
        }
      ],
      "source": [
        "#4 removing punctuation from sentence\n",
        "\n",
        "import string\n",
        "sentence1 = val1.translate(str.maketrans('', '', string.punctuation))\n",
        "sentence2 = val2.translate(str.maketrans('', '', string.punctuation))\n",
        "\n",
        "print(sentence1)\n",
        "print(sentence2)"
      ]
    },
    {
      "cell_type": "code",
      "execution_count": null,
      "metadata": {
        "id": "6dB45xDb4w-5",
        "outputId": "c1dd458e-50ca-460d-cf0b-45aecb099ccf"
      },
      "outputs": [
        {
          "name": "stdout",
          "output_type": "stream",
          "text": [
            "{'a': 1, 'e': 2, 'i': 1, 'o': 3, 'u': 1, 'A': 0, 'E': 0, 'I': 0, 'O': 0, 'U': 0}\n"
          ]
        }
      ],
      "source": [
        "#5 count number of vowels in sentence\n",
        "\n",
        "vowels_list = 'aeiouAEIOU'\n",
        "vowel = {}.fromkeys(vowels_list,0)\n",
        "\n",
        "for i in val1:\n",
        "   if i in vowel:\n",
        "       vowel[i] = vowel[i] + 1\n",
        "\n",
        "print(vowel)"
      ]
    },
    {
      "cell_type": "markdown",
      "metadata": {
        "id": "CmFoI4jDS9nx"
      },
      "source": [
        "# Question 3 \n",
        "\n",
        "(15 points). The formula that describes the volume V of a sphere with radius r is the following:\n",
        "\n",
        "$ V=\\frac{4}{3}\\ast\\ \\pi\\ast\\ r^3 $\n",
        "\n",
        "Write a program to calculate the value of V when r is in the range of 1–10. Output the result in the following format:\n",
        "\n",
        "\tr\tV\n",
        "\t1\t…\n",
        "\t2\t…\n",
        "\t3\t…\n"
      ]
    },
    {
      "cell_type": "code",
      "execution_count": null,
      "metadata": {
        "id": "pEyqeioAT95b",
        "outputId": "01c3a613-ea1d-41db-aa21-7d52fcd377da"
      },
      "outputs": [
        {
          "name": "stdout",
          "output_type": "stream",
          "text": [
            "r V\n",
            "0 0.0\n",
            "1 4.1887902047863905\n",
            "2 33.510321638291124\n",
            "3 113.09733552923254\n",
            "4 268.082573106329\n",
            "5 523.5987755982989\n",
            "6 904.7786842338603\n",
            "7 1436.7550402417319\n",
            "8 2144.660584850632\n",
            "9 3053.6280592892786\n",
            "10 4188.790204786391\n"
          ]
        }
      ],
      "source": [
        "# Your code here\n",
        "\n",
        "def Volume(r, pi = 3.1415926535897931):\n",
        "  return (4/3) * pi * (r ** 3)\n",
        "\n",
        "print('r V')\n",
        "for r in range(11):\n",
        "  print (str(r) +\" \" +str(Volume(r)))"
      ]
    },
    {
      "cell_type": "markdown",
      "metadata": {
        "id": "z3tBE7E-Xn5X"
      },
      "source": [
        "# Question 4\n",
        "\n",
        "(40 points). In the field of Data Science, data is often formatted as a comma-delimited (CSV) file, where each line in a file corresponds to a field's value. Refer to Chapter 9 (p. 106) for more information on comma-delimited files. To answer this question, you will need to download the file [Assignment1_denton_housing.csv](https://raw.githubusercontent.com/unt-iialab/info5731-spring2022/main/assignments/Assignment1_denton_housing.csv) included with this assignment. The file [Assignment1_denton_housing.csv](https://raw.githubusercontent.com/unt-iialab/info5731-spring2022/main/assignments/Assignment1_denton_housing.csv) contains statistics about housing in the city of Denton from 2008 to 2014. Write a program to implement the following questions.\n",
        "\n",
        "(1) (10 pts) Calculate the difference in the number of Occupied Housing Units from year to year and print it. The difference must be calculated for the consecutive years such as 2008-2009, 2009-2010 etc. Finally, print the values in the ascending order.\n",
        "\n",
        "(2) (10 pts) For all the years, calculate the percentage of housing units which are vacant an occupied. Print the results in the following format:\n",
        "\n",
        "Year Vacant Housing Units Occupied Housing Units\n",
        "\n",
        "    2008  30%   70%                          \n",
        "\t2009 ----- -----\n",
        "\t2010 ----- -----\n",
        "    2011 ----- -----\n",
        "\t2012 ----- -----\n",
        "    2013 ----- -----\n",
        "\t2014 ----- -----\n",
        "  \n",
        "  \n",
        "\n",
        "(3) (10 pts) Calculate and print the valued and years in which the highest number of housing units were vacant and occupied. Print the results in the following format:  \n",
        "\n",
        "                              Year\tValue\n",
        "\tVacant Housing Units\t  -----   -----\n",
        "\tOccupied Housing Units\t-----   -----\n",
        "\n",
        "(4) (10 pts) Calculate the harmonic mean of the total housing units and print it out. You can find the information about harmonic mean here: https://ncalculators.com/statistics/harmonic-mean-calculator.htm"
      ]
    },
    {
      "cell_type": "code",
      "execution_count": null,
      "metadata": {
        "id": "WRrCOKVA4w-9",
        "outputId": "c3e6be52-c5e6-4fb2-cd6f-bfa8b24146b6"
      },
      "outputs": [
        {
          "data": {
            "text/plain": [
              "17    -795.0\n",
              "11    -303.0\n",
              "8     1404.0\n",
              "5     1565.0\n",
              "2     2622.0\n",
              "14    5091.0\n",
              "20       NaN\n",
              "Name: value, dtype: float64"
            ]
          },
          "execution_count": 115,
          "metadata": {},
          "output_type": "execute_result"
        }
      ],
      "source": [
        "#4.1 Difference in the number of Occupied Housing Units\n",
        "import pandas as pd\n",
        "Housing_Data = pd.read_csv('Assignment1_denton_housing.csv')\n",
        "df_occupied = Housing_Data[Housing_Data['title_field'] == 'Occupied Housing Units'].sort_values(by=['year'])\n",
        "df_occupied.value.diff().sort_values()"
      ]
    },
    {
      "cell_type": "code",
      "execution_count": null,
      "metadata": {
        "id": "Q2eNc14n4w--"
      },
      "outputs": [],
      "source": [
        "#2 peercentage calculation\n",
        "\n",
        "df_vacant_list = Housing_Data[Housing_Data['title_field'] == 'Vacant Housing Units'].sort_values(by=['year'])['value']\n",
        "\n",
        "df_occupied_list= Housing_Data[Housing_Data['title_field'] == 'Occupied Housing Units'].sort_values(by=['year'])['value']\n",
        "\n",
        "Total = Housing_Data[Housing_Data['title_field'] == 'Total Housing Units'].sort_values(by=['year'])['value']\n",
        "\n",
        "year = Housing_Data[Housing_Data['title_field'] == 'Total Housing Units'].sort_values(by=['year'])['year']\n",
        "Vacant = [str((vacant/total)*100)+' %' for vacant,total in zip(df_vacant_list,Total_list)]\n",
        "occupied = [str((occupied/total)*100)+' %' for occupied, total in zip(df_occupied_list, Total_list)]\n",
        "final = pd.DataFrame(list(zip(year,Vacant, occupied)), columns =['Year','Vacant Housing Units', 'Occupied Housing Units'])\n",
        "final"
      ]
    },
    {
      "cell_type": "code",
      "execution_count": null,
      "metadata": {
        "id": "QkEairpm4w--",
        "outputId": "6f268ba6-e3e3-41bb-c2fa-db4addad9acd"
      },
      "outputs": [
        {
          "name": "stdout",
          "output_type": "stream",
          "text": [
            "               title_field  year  value\n",
            "2   Occupied Housing Units  2014  46295\n",
            "19    Vacant Housing Units  2008   4483\n"
          ]
        }
      ],
      "source": [
        "#3\n",
        "\n",
        "df_vacant = Housing_Data[Housing_Data['title_field'] == 'Vacant Housing Units']\n",
        "difference= pd.concat([df_occupied[df_occupied['value'] == df_occupied['value'].max()],df_vacant[df_vacant['value'] == df_vacant['value'].max()]])\n",
        "print(difference[['title_field','year','value']])"
      ]
    },
    {
      "cell_type": "code",
      "execution_count": null,
      "metadata": {
        "id": "-MNLllTd4w-_",
        "outputId": "b6fc5bfa-b490-4d7d-c8aa-c03b788c48e1"
      },
      "outputs": [
        {
          "name": "stdout",
          "output_type": "stream",
          "text": [
            "Harmonic mean  is 44398.28543969185\n"
          ]
        }
      ],
      "source": [
        "#4 harmonic mean\n",
        "\n",
        "import statistics\n",
        "print('Harmonic mean  is {0}'.format(statistics.harmonic_mean(Total)))"
      ]
    }
  ],
  "metadata": {
    "colab": {
      "collapsed_sections": [],
      "provenance": [],
      "include_colab_link": true
    },
    "kernelspec": {
      "display_name": "Python 3 (ipykernel)",
      "language": "python",
      "name": "python3"
    },
    "language_info": {
      "codemirror_mode": {
        "name": "ipython",
        "version": 3
      },
      "file_extension": ".py",
      "mimetype": "text/x-python",
      "name": "python",
      "nbconvert_exporter": "python",
      "pygments_lexer": "ipython3",
      "version": "3.9.12"
    }
  },
  "nbformat": 4,
  "nbformat_minor": 0
}